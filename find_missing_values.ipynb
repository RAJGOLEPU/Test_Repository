{
 "cells": [
  {
   "cell_type": "code",
   "execution_count": 18,
   "id": "78d11848-0eeb-453a-a0d3-8c722be7afeb",
   "metadata": {},
   "outputs": [],
   "source": [
    "l = [1,8]\n"
   ]
  },
  {
   "cell_type": "code",
   "execution_count": 9,
   "id": "ebbde786-09ae-42cc-a046-fc8c2d843de1",
   "metadata": {},
   "outputs": [],
   "source": [
    "range_l = range(1,9)\n",
    "        \n",
    "        "
   ]
  },
  {
   "cell_type": "code",
   "execution_count": 19,
   "id": "e7819e9a-39eb-40ae-88bd-167088748491",
   "metadata": {},
   "outputs": [
    {
     "name": "stdout",
     "output_type": "stream",
     "text": [
      "2\n",
      "3\n",
      "4\n",
      "5\n",
      "6\n",
      "7\n"
     ]
    }
   ],
   "source": [
    "for i in range_l:\n",
    "    if i not in l:\n",
    "        print(i)\n",
    "        "
   ]
  },
  {
   "cell_type": "code",
   "execution_count": 4,
   "id": "eb476447-39eb-4591-bb57-fc5ea3a432d8",
   "metadata": {},
   "outputs": [
    {
     "name": "stdout",
     "output_type": "stream",
     "text": [
      "6\n",
      "7\n",
      "10\n"
     ]
    }
   ],
   "source": [
    "l = [1,2,3,4,5,8,9,11]\n",
    "rl = range(1,l[-1])\n",
    "for i in rl:\n",
    "    if i not in l:\n",
    "        print(i)"
   ]
  },
  {
   "cell_type": "code",
   "execution_count": 2,
   "id": "d5a3dc3b-57b6-4a86-884d-879559cc306a",
   "metadata": {},
   "outputs": [],
   "source": [
    "import numpy as np"
   ]
  },
  {
   "cell_type": "code",
   "execution_count": 3,
   "id": "34007e5c",
   "metadata": {},
   "outputs": [
    {
     "data": {
      "text/plain": [
       "19999.0"
      ]
     },
     "execution_count": 3,
     "metadata": {},
     "output_type": "execute_result"
    }
   ],
   "source": [
    "np.mean(19999)"
   ]
  },
  {
   "cell_type": "code",
   "execution_count": 4,
   "id": "971da6db",
   "metadata": {},
   "outputs": [],
   "source": [
    "l = [1,2,3]"
   ]
  },
  {
   "cell_type": "code",
   "execution_count": 5,
   "id": "a4609250",
   "metadata": {},
   "outputs": [
    {
     "data": {
      "text/plain": [
       "2.0"
      ]
     },
     "execution_count": 5,
     "metadata": {},
     "output_type": "execute_result"
    }
   ],
   "source": [
    "np.mean(l)"
   ]
  },
  {
   "cell_type": "code",
   "execution_count": null,
   "id": "65113b87",
   "metadata": {},
   "outputs": [],
   "source": []
  }
 ],
 "metadata": {
  "kernelspec": {
   "display_name": "my_env",
   "language": "python",
   "name": "my_env"
  },
  "language_info": {
   "codemirror_mode": {
    "name": "ipython",
    "version": 3
   },
   "file_extension": ".py",
   "mimetype": "text/x-python",
   "name": "python",
   "nbconvert_exporter": "python",
   "pygments_lexer": "ipython3",
   "version": "3.12.0"
  }
 },
 "nbformat": 4,
 "nbformat_minor": 5
}
